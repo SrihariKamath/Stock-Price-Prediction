{
 "cells": [
  {
   "cell_type": "markdown",
   "metadata": {
    "id": "p3sxlz1foGKL"
   },
   "source": [
    "Name: Srihari Narendra Kamath\n",
    "ID: ACG2210201105018"
   ]
  },
  {
   "cell_type": "code",
   "execution_count": 1,
   "metadata": {
    "id": "woWeMumSaBb5"
   },
   "outputs": [],
   "source": [
    "# Importing the libraries\n",
    "import pandas as pd\n",
    "import numpy as np\n",
    "import matplotlib.pyplot as plt\n",
    "plt.style.use('fivethirtyeight')\n",
    "import math\n",
    "from sklearn.preprocessing import MinMaxScaler\n",
    "from keras.models import Sequential\n",
    "from keras.layers import Dense\n",
    "from keras.layers import LSTM\n",
    "from keras.layers import Dropout"
   ]
  },
  {
   "cell_type": "code",
   "execution_count": 5,
   "metadata": {
    "colab": {
     "base_uri": "https://localhost:8080/",
     "height": 455
    },
    "id": "AkYNQ6xkm1F1",
    "outputId": "5b9db0ba-9276-42a5-a953-572db255ecf7"
   },
   "outputs": [
    {
     "data": {
      "text/html": [
       "\n",
       "  <div id=\"df-2e61a08e-5462-4e5b-89b3-df2745af48f1\">\n",
       "    <div class=\"colab-df-container\">\n",
       "      <div>\n",
       "<style scoped>\n",
       "    .dataframe tbody tr th:only-of-type {\n",
       "        vertical-align: middle;\n",
       "    }\n",
       "\n",
       "    .dataframe tbody tr th {\n",
       "        vertical-align: top;\n",
       "    }\n",
       "\n",
       "    .dataframe thead th {\n",
       "        text-align: right;\n",
       "    }\n",
       "</style>\n",
       "<table border=\"1\" class=\"dataframe\">\n",
       "  <thead>\n",
       "    <tr style=\"text-align: right;\">\n",
       "      <th></th>\n",
       "      <th>Open</th>\n",
       "      <th>High</th>\n",
       "      <th>Low</th>\n",
       "      <th>Close</th>\n",
       "      <th>Adj Close</th>\n",
       "      <th>Volume</th>\n",
       "    </tr>\n",
       "    <tr>\n",
       "      <th>Date</th>\n",
       "      <th></th>\n",
       "      <th></th>\n",
       "      <th></th>\n",
       "      <th></th>\n",
       "      <th></th>\n",
       "      <th></th>\n",
       "    </tr>\n",
       "  </thead>\n",
       "  <tbody>\n",
       "    <tr>\n",
       "      <th>2016-01-04</th>\n",
       "      <td>25.652500</td>\n",
       "      <td>26.342501</td>\n",
       "      <td>25.500000</td>\n",
       "      <td>26.337500</td>\n",
       "      <td>24.251436</td>\n",
       "      <td>270597600</td>\n",
       "    </tr>\n",
       "    <tr>\n",
       "      <th>2016-01-05</th>\n",
       "      <td>26.437500</td>\n",
       "      <td>26.462500</td>\n",
       "      <td>25.602501</td>\n",
       "      <td>25.677500</td>\n",
       "      <td>23.643711</td>\n",
       "      <td>223164000</td>\n",
       "    </tr>\n",
       "    <tr>\n",
       "      <th>2016-01-06</th>\n",
       "      <td>25.139999</td>\n",
       "      <td>25.592501</td>\n",
       "      <td>24.967501</td>\n",
       "      <td>25.174999</td>\n",
       "      <td>23.181007</td>\n",
       "      <td>273829600</td>\n",
       "    </tr>\n",
       "    <tr>\n",
       "      <th>2016-01-07</th>\n",
       "      <td>24.670000</td>\n",
       "      <td>25.032499</td>\n",
       "      <td>24.107500</td>\n",
       "      <td>24.112499</td>\n",
       "      <td>22.202663</td>\n",
       "      <td>324377600</td>\n",
       "    </tr>\n",
       "    <tr>\n",
       "      <th>2016-01-08</th>\n",
       "      <td>24.637501</td>\n",
       "      <td>24.777500</td>\n",
       "      <td>24.190001</td>\n",
       "      <td>24.240000</td>\n",
       "      <td>22.320068</td>\n",
       "      <td>283192000</td>\n",
       "    </tr>\n",
       "    <tr>\n",
       "      <th>...</th>\n",
       "      <td>...</td>\n",
       "      <td>...</td>\n",
       "      <td>...</td>\n",
       "      <td>...</td>\n",
       "      <td>...</td>\n",
       "      <td>...</td>\n",
       "    </tr>\n",
       "    <tr>\n",
       "      <th>2021-11-29</th>\n",
       "      <td>159.369995</td>\n",
       "      <td>161.190002</td>\n",
       "      <td>158.789993</td>\n",
       "      <td>160.240005</td>\n",
       "      <td>160.240005</td>\n",
       "      <td>88748200</td>\n",
       "    </tr>\n",
       "    <tr>\n",
       "      <th>2021-11-30</th>\n",
       "      <td>159.990005</td>\n",
       "      <td>165.520004</td>\n",
       "      <td>159.919998</td>\n",
       "      <td>165.300003</td>\n",
       "      <td>165.300003</td>\n",
       "      <td>174048100</td>\n",
       "    </tr>\n",
       "    <tr>\n",
       "      <th>2021-12-01</th>\n",
       "      <td>167.479996</td>\n",
       "      <td>170.300003</td>\n",
       "      <td>164.529999</td>\n",
       "      <td>164.770004</td>\n",
       "      <td>164.770004</td>\n",
       "      <td>152052500</td>\n",
       "    </tr>\n",
       "    <tr>\n",
       "      <th>2021-12-02</th>\n",
       "      <td>158.740005</td>\n",
       "      <td>164.199997</td>\n",
       "      <td>157.800003</td>\n",
       "      <td>163.759995</td>\n",
       "      <td>163.759995</td>\n",
       "      <td>136739200</td>\n",
       "    </tr>\n",
       "    <tr>\n",
       "      <th>2021-12-03</th>\n",
       "      <td>164.020004</td>\n",
       "      <td>164.960007</td>\n",
       "      <td>159.720001</td>\n",
       "      <td>161.839996</td>\n",
       "      <td>161.839996</td>\n",
       "      <td>117938300</td>\n",
       "    </tr>\n",
       "  </tbody>\n",
       "</table>\n",
       "<p>1492 rows × 6 columns</p>\n",
       "</div>\n",
       "      <button class=\"colab-df-convert\" onclick=\"convertToInteractive('df-2e61a08e-5462-4e5b-89b3-df2745af48f1')\"\n",
       "              title=\"Convert this dataframe to an interactive table.\"\n",
       "              style=\"display:none;\">\n",
       "        \n",
       "  <svg xmlns=\"http://www.w3.org/2000/svg\" height=\"24px\"viewBox=\"0 0 24 24\"\n",
       "       width=\"24px\">\n",
       "    <path d=\"M0 0h24v24H0V0z\" fill=\"none\"/>\n",
       "    <path d=\"M18.56 5.44l.94 2.06.94-2.06 2.06-.94-2.06-.94-.94-2.06-.94 2.06-2.06.94zm-11 1L8.5 8.5l.94-2.06 2.06-.94-2.06-.94L8.5 2.5l-.94 2.06-2.06.94zm10 10l.94 2.06.94-2.06 2.06-.94-2.06-.94-.94-2.06-.94 2.06-2.06.94z\"/><path d=\"M17.41 7.96l-1.37-1.37c-.4-.4-.92-.59-1.43-.59-.52 0-1.04.2-1.43.59L10.3 9.45l-7.72 7.72c-.78.78-.78 2.05 0 2.83L4 21.41c.39.39.9.59 1.41.59.51 0 1.02-.2 1.41-.59l7.78-7.78 2.81-2.81c.8-.78.8-2.07 0-2.86zM5.41 20L4 18.59l7.72-7.72 1.47 1.35L5.41 20z\"/>\n",
       "  </svg>\n",
       "      </button>\n",
       "      \n",
       "  <style>\n",
       "    .colab-df-container {\n",
       "      display:flex;\n",
       "      flex-wrap:wrap;\n",
       "      gap: 12px;\n",
       "    }\n",
       "\n",
       "    .colab-df-convert {\n",
       "      background-color: #E8F0FE;\n",
       "      border: none;\n",
       "      border-radius: 50%;\n",
       "      cursor: pointer;\n",
       "      display: none;\n",
       "      fill: #1967D2;\n",
       "      height: 32px;\n",
       "      padding: 0 0 0 0;\n",
       "      width: 32px;\n",
       "    }\n",
       "\n",
       "    .colab-df-convert:hover {\n",
       "      background-color: #E2EBFA;\n",
       "      box-shadow: 0px 1px 2px rgba(60, 64, 67, 0.3), 0px 1px 3px 1px rgba(60, 64, 67, 0.15);\n",
       "      fill: #174EA6;\n",
       "    }\n",
       "\n",
       "    [theme=dark] .colab-df-convert {\n",
       "      background-color: #3B4455;\n",
       "      fill: #D2E3FC;\n",
       "    }\n",
       "\n",
       "    [theme=dark] .colab-df-convert:hover {\n",
       "      background-color: #434B5C;\n",
       "      box-shadow: 0px 1px 3px 1px rgba(0, 0, 0, 0.15);\n",
       "      filter: drop-shadow(0px 1px 2px rgba(0, 0, 0, 0.3));\n",
       "      fill: #FFFFFF;\n",
       "    }\n",
       "  </style>\n",
       "\n",
       "      <script>\n",
       "        const buttonEl =\n",
       "          document.querySelector('#df-2e61a08e-5462-4e5b-89b3-df2745af48f1 button.colab-df-convert');\n",
       "        buttonEl.style.display =\n",
       "          google.colab.kernel.accessAllowed ? 'block' : 'none';\n",
       "\n",
       "        async function convertToInteractive(key) {\n",
       "          const element = document.querySelector('#df-2e61a08e-5462-4e5b-89b3-df2745af48f1');\n",
       "          const dataTable =\n",
       "            await google.colab.kernel.invokeFunction('convertToInteractive',\n",
       "                                                     [key], {});\n",
       "          if (!dataTable) return;\n",
       "\n",
       "          const docLinkHtml = 'Like what you see? Visit the ' +\n",
       "            '<a target=\"_blank\" href=https://colab.research.google.com/notebooks/data_table.ipynb>data table notebook</a>'\n",
       "            + ' to learn more about interactive tables.';\n",
       "          element.innerHTML = '';\n",
       "          dataTable['output_type'] = 'display_data';\n",
       "          await google.colab.output.renderOutput(dataTable, element);\n",
       "          const docLink = document.createElement('div');\n",
       "          docLink.innerHTML = docLinkHtml;\n",
       "          element.appendChild(docLink);\n",
       "        }\n",
       "      </script>\n",
       "    </div>\n",
       "  </div>\n",
       "  "
      ],
      "text/plain": [
       "                  Open        High         Low       Close   Adj Close  \\\n",
       "Date                                                                     \n",
       "2016-01-04   25.652500   26.342501   25.500000   26.337500   24.251436   \n",
       "2016-01-05   26.437500   26.462500   25.602501   25.677500   23.643711   \n",
       "2016-01-06   25.139999   25.592501   24.967501   25.174999   23.181007   \n",
       "2016-01-07   24.670000   25.032499   24.107500   24.112499   22.202663   \n",
       "2016-01-08   24.637501   24.777500   24.190001   24.240000   22.320068   \n",
       "...                ...         ...         ...         ...         ...   \n",
       "2021-11-29  159.369995  161.190002  158.789993  160.240005  160.240005   \n",
       "2021-11-30  159.990005  165.520004  159.919998  165.300003  165.300003   \n",
       "2021-12-01  167.479996  170.300003  164.529999  164.770004  164.770004   \n",
       "2021-12-02  158.740005  164.199997  157.800003  163.759995  163.759995   \n",
       "2021-12-03  164.020004  164.960007  159.720001  161.839996  161.839996   \n",
       "\n",
       "               Volume  \n",
       "Date                   \n",
       "2016-01-04  270597600  \n",
       "2016-01-05  223164000  \n",
       "2016-01-06  273829600  \n",
       "2016-01-07  324377600  \n",
       "2016-01-08  283192000  \n",
       "...               ...  \n",
       "2021-11-29   88748200  \n",
       "2021-11-30  174048100  \n",
       "2021-12-01  152052500  \n",
       "2021-12-02  136739200  \n",
       "2021-12-03  117938300  \n",
       "\n",
       "[1492 rows x 6 columns]"
      ]
     },
     "execution_count": 5,
     "metadata": {},
     "output_type": "execute_result"
    }
   ],
   "source": [
    "# Get the stock quote\n",
    "df = pd.read_csv('/content/AAPL_Train.csv',index_col='Date',parse_dates=True)\n",
    "df"
   ]
  },
  {
   "cell_type": "code",
   "execution_count": 6,
   "metadata": {
    "colab": {
     "base_uri": "https://localhost:8080/"
    },
    "id": "ona24UQKnPLm",
    "outputId": "83a9d36e-8ab5-4d5d-bad7-7185c4b2302f"
   },
   "outputs": [
    {
     "data": {
      "text/plain": [
       "(1492, 6)"
      ]
     },
     "execution_count": 6,
     "metadata": {},
     "output_type": "execute_result"
    }
   ],
   "source": [
    "df.shape # Get rows and columns"
   ]
  },
  {
   "cell_type": "code",
   "execution_count": 7,
   "metadata": {
    "colab": {
     "base_uri": "https://localhost:8080/",
     "height": 375
    },
    "id": "2gXLMc4Fn5Iz",
    "outputId": "5cfdee21-88dd-425e-a880-c4d9945ae6e8"
   },
   "outputs": [
    {
     "data": {
      "image/png": "[encoded data removed]",
      "text/plain": [
       "<Figure size 720x360 with 1 Axes>"
      ]
     },
     "metadata": {},
     "output_type": "display_data"
    }
   ],
   "source": [
    "# Visualize the closing price\n",
    "plt.figure(figsize=(10,5))\n",
    "plt.plot(df['Close'])\n",
    "plt.title('Apple Stock Closing Price History')\n",
    "plt.xlabel('Date',fontsize=10)\n",
    "plt.ylabel('Close Price USD$',fontsize=15)\n",
    "plt.show()"
   ]
  },
  {
   "cell_type": "code",
   "execution_count": 8,
   "metadata": {
    "colab": {
     "base_uri": "https://localhost:8080/"
    },
    "id": "-YQ_uj4VoxTj",
    "outputId": "6c9b182c-1a67-4e63-e975-840956aca337"
   },
   "outputs": [
    {
     "data": {
      "text/plain": [
       "1194"
      ]
     },
     "execution_count": 8,
     "metadata": {},
     "output_type": "execute_result"
    }
   ],
   "source": [
    "#Create a dataframe with only 'Close' Column\n",
    "data = df.filter(['Close'])\n",
    "#Convert the dataframe to a numpy array\n",
    "dataset = data.values\n",
    "#Get the number of rows to train the model on\n",
    "training_data_len = math.ceil(len(dataset)*0.8)\n",
    "training_data_len"
   ]
  },
  {
   "cell_type": "code",
   "execution_count": 9,
   "metadata": {
    "colab": {
     "base_uri": "https://localhost:8080/"
    },
    "id": "qzZ9BSYMrx1n",
    "outputId": "53a3f517-7d79-4418-e0dc-32a024b4e07f"
   },
   "outputs": [
    {
     "data": {
      "text/plain": [
       "array([[0.02629367],\n",
       "       [0.02166907],\n",
       "       [0.01814806],\n",
       "       ...,\n",
       "       [0.99628631],\n",
       "       [0.98920921],\n",
       "       [0.97575583]])"
      ]
     },
     "execution_count": 9,
     "metadata": {},
     "output_type": "execute_result"
    }
   ],
   "source": [
    "#Scaling the data\n",
    "scaler = MinMaxScaler(feature_range=(0,1))\n",
    "scaled_data = scaler.fit_transform(dataset)\n",
    "scaled_data"
   ]
  },
  {
   "cell_type": "code",
   "execution_count": 10,
   "metadata": {
    "colab": {
     "base_uri": "https://localhost:8080/"
    },
    "id": "FC98uHRVseNk",
    "outputId": "e930917a-cb53-4ce4-e051-f1cae66bd466"
   },
   "outputs": [
    {
     "name": "stdout",
     "output_type": "stream",
     "text": [
      "[array([0.02629367, 0.02166907, 0.01814806, 0.01070315, 0.01159655,\n",
      "       0.01434678, 0.01685177, 0.01234979, 0.016081  , 0.01189433,\n",
      "       0.01107103, 0.01129875, 0.0104404 , 0.01940932, 0.01594087,\n",
      "       0.01690432, 0.00539538, 0.00656904, 0.0122622 , 0.01066812,\n",
      "       0.00725223, 0.01052798, 0.01096592, 0.00644641, 0.00818065,\n",
      "       0.0081456 , 0.00688435, 0.00588586, 0.00639386, 0.01103599,\n",
      "       0.01362857, 0.01037033, 0.00998494, 0.0114564 , 0.0076201 ,\n",
      "       0.01009005, 0.0112462 , 0.01150897, 0.01112358, 0.01785027,\n",
      "       0.01823565, 0.01954946, 0.0221946 , 0.02019761, 0.01872614,\n",
      "       0.0188838 , 0.01897138, 0.02088079, 0.02133623, 0.02494483,\n",
      "       0.02737975, 0.02708196, 0.02729216, 0.02727465, 0.02869356,\n",
      "       0.02766002, 0.02685423, 0.0260134 , 0.03037523, 0.0336685 ])]\n",
      "[0.03267000574095211]\n"
     ]
    }
   ],
   "source": [
    "# Creating the training dataset\n",
    "# Creating the scaled training dataset\n",
    "train_data = scaled_data[0:training_data_len,:]\n",
    "#Split the data into x_train,y_train datasets\n",
    "x_train=[]\n",
    "y_train = []\n",
    "\n",
    "for i in range(60,len(train_data)):\n",
    "  x_train.append(train_data[i-60:i,0])\n",
    "  y_train.append(train_data[i,0])\n",
    "  if i<=60:\n",
    "    print(x_train)\n",
    "    print(y_train)"
   ]
  },
  {
   "cell_type": "code",
   "execution_count": 11,
   "metadata": {
    "id": "9emCqlp9uxhI"
   },
   "outputs": [],
   "source": [
    "#Convert x_train,y_train dataset to numpy arrays\n",
    "x_train,y_train = np.array(x_train),np.array(y_train)"
   ]
  },
  {
   "cell_type": "code",
   "execution_count": 12,
   "metadata": {
    "colab": {
     "base_uri": "https://localhost:8080/"
    },
    "id": "gQMhb5XAvD4V",
    "outputId": "05c4363f-a957-425a-ec45-1a8269f8b00d"
   },
   "outputs": [
    {
     "data": {
      "text/plain": [
       "(1134, 60, 1)"
      ]
     },
     "execution_count": 12,
     "metadata": {},
     "output_type": "execute_result"
    }
   ],
   "source": [
    "#Reshape the data\n",
    "x_train=np.reshape(x_train,(x_train.shape[0],x_train.shape[1],1))\n",
    "x_train.shape"
   ]
  },
  {
   "cell_type": "code",
   "execution_count": 13,
   "metadata": {
    "id": "2T_coSy6dwSW"
   },
   "outputs": [],
   "source": [
    "# Building the RNN\n",
    "model = Sequential()\n",
    "\n",
    "#Adding the first LSTM layer and some Dropout Regularisation\n",
    "model.add(LSTM(units=50,return_sequences=True,input_shape=(x_train.shape[1], 1)))\n",
    "model.add(Dropout(0.2))\n",
    "\n",
    "#Adding a second LSTM layer and some Dropout Regularisation\n",
    "model.add(LSTM(units=50,return_sequences=True))\n",
    "model.add(Dropout(0.2))\n",
    "\n",
    "#Adding third LSTM layer and some Dropout regularisation\n",
    "model.add(LSTM(units=50,return_sequences=True))\n",
    "model.add(Dropout(0.2))\n",
    "\n",
    "#Adding fourth LSTM layer and some Dropout regularisation\n",
    "model.add(LSTM(units=50))\n",
    "model.add(Dropout(0.2))\n",
    "\n",
    "#Adding the output layer\n",
    "model.add(Dense(units=1))"
   ]
  },
  {
   "cell_type": "code",
   "execution_count": 14,
   "metadata": {
    "id": "gJIZ-SINfUTH"
   },
   "outputs": [],
   "source": [
    "#Compile the model\n",
    "model.compile(optimizer='adam',loss='mean_squared_error')"
   ]
  },
  {
   "cell_type": "code",
   "execution_count": 15,
   "metadata": {
    "colab": {
     "base_uri": "https://localhost:8080/"
    },
    "id": "i1tDAp83f6B1",
    "outputId": "4ed97171-2d3f-4ca9-f2fc-055c899952b8"
   },
   "outputs": [
    {
     "name": "stdout",
     "output_type": "stream",
     "text": [
      "Epoch 1/30\n",
      "36/36 [==============================] - 13s 139ms/step - loss: 0.0079\n",
      "Epoch 2/30\n",
      "36/36 [==============================] - 5s 126ms/step - loss: 0.0020\n",
      "Epoch 3/30\n",
      "36/36 [==============================] - 5s 136ms/step - loss: 0.0016\n",
      "Epoch 4/30\n",
      "36/36 [==============================] - 5s 140ms/step - loss: 0.0014\n",
      "Epoch 5/30\n",
      "36/36 [==============================] - 5s 131ms/step - loss: 0.0013\n",
      "Epoch 6/30\n",
      "36/36 [==============================] - 5s 133ms/step - loss: 0.0011\n",
      "Epoch 7/30\n",
      "36/36 [==============================] - 5s 133ms/step - loss: 0.0012\n",
      "Epoch 8/30\n",
      "36/36 [==============================] - 5s 135ms/step - loss: 0.0012\n",
      "Epoch 9/30\n",
      "36/36 [==============================] - 5s 135ms/step - loss: 0.0010\n",
      "Epoch 10/30\n",
      "36/36 [==============================] - 5s 133ms/step - loss: 0.0011\n",
      "Epoch 11/30\n",
      "36/36 [==============================] - 5s 137ms/step - loss: 0.0010\n",
      "Epoch 12/30\n",
      "36/36 [==============================] - 6s 171ms/step - loss: 9.5727e-04\n",
      "Epoch 13/30\n",
      "36/36 [==============================] - 5s 131ms/step - loss: 0.0010\n",
      "Epoch 14/30\n",
      "36/36 [==============================] - 5s 138ms/step - loss: 0.0010\n",
      "Epoch 15/30\n",
      "36/36 [==============================] - 5s 134ms/step - loss: 0.0010\n",
      "Epoch 16/30\n",
      "36/36 [==============================] - 5s 140ms/step - loss: 0.0010\n",
      "Epoch 17/30\n",
      "36/36 [==============================] - 5s 136ms/step - loss: 9.8019e-04\n",
      "Epoch 18/30\n",
      "36/36 [==============================] - 5s 130ms/step - loss: 9.6636e-04\n",
      "Epoch 19/30\n",
      "36/36 [==============================] - 5s 140ms/step - loss: 9.6488e-04\n",
      "Epoch 20/30\n",
      "36/36 [==============================] - 5s 139ms/step - loss: 7.9803e-04\n",
      "Epoch 21/30\n",
      "36/36 [==============================] - 5s 141ms/step - loss: 8.1861e-04\n",
      "Epoch 22/30\n",
      "36/36 [==============================] - 5s 144ms/step - loss: 7.6795e-04\n",
      "Epoch 23/30\n",
      "36/36 [==============================] - 5s 132ms/step - loss: 7.7727e-04\n",
      "Epoch 24/30\n",
      "36/36 [==============================] - 5s 131ms/step - loss: 8.1359e-04\n",
      "Epoch 25/30\n",
      "36/36 [==============================] - 5s 129ms/step - loss: 7.1296e-04\n",
      "Epoch 26/30\n",
      "36/36 [==============================] - 5s 132ms/step - loss: 6.8984e-04\n",
      "Epoch 27/30\n",
      "36/36 [==============================] - 5s 137ms/step - loss: 6.3399e-04\n",
      "Epoch 28/30\n",
      "36/36 [==============================] - 5s 132ms/step - loss: 6.6614e-04\n",
      "Epoch 29/30\n",
      "36/36 [==============================] - 5s 126ms/step - loss: 7.1289e-04\n",
      "Epoch 30/30\n",
      "36/36 [==============================] - 5s 136ms/step - loss: 7.8091e-04\n"
     ]
    },
    {
     "data": {
      "text/plain": [
       "<keras.callbacks.History at 0x7f43de48b910>"
      ]
     },
     "execution_count": 15,
     "metadata": {},
     "output_type": "execute_result"
    }
   ],
   "source": [
    "#Train the model\n",
    "model.fit(x_train,y_train,batch_size=32,epochs=30)"
   ]
  },
  {
   "cell_type": "code",
   "execution_count": 16,
   "metadata": {
    "id": "W9OGkPYsgKWf"
   },
   "outputs": [],
   "source": [
    "# Create testing dataset\n",
    "# Create a new array containing scaled values from 1134 to 1492\n",
    "test_data = scaled_data[training_data_len-60:,:]\n",
    "#Create the data sets x_test and y_test\n",
    "x_test=[]\n",
    "y_test=dataset[training_data_len:,:]\n",
    "for i in range(60,len(test_data)):\n",
    " x_test.append(test_data[i-60:i,0])"
   ]
  },
  {
   "cell_type": "code",
   "execution_count": 17,
   "metadata": {
    "id": "r3z6_5JYifLO"
   },
   "outputs": [],
   "source": [
    "# Convert the data into numpy arrary\n",
    "x_test=np.array(x_test)"
   ]
  },
  {
   "cell_type": "code",
   "execution_count": 18,
   "metadata": {
    "id": "q_bWRvn1izs8"
   },
   "outputs": [],
   "source": [
    "# Reshape the data\n",
    "x_test=np.reshape(x_test,(x_test.shape[0],x_test.shape[1],1))"
   ]
  },
  {
   "cell_type": "code",
   "execution_count": 19,
   "metadata": {
    "id": "OyGuuBsGjDH2"
   },
   "outputs": [],
   "source": [
    "# Get the models predicted values\n",
    "predictions=model.predict(x_test)\n",
    "predictions=scaler.inverse_transform(predictions)"
   ]
  },
  {
   "cell_type": "code",
   "execution_count": 20,
   "metadata": {
    "colab": {
     "base_uri": "https://localhost:8080/"
    },
    "id": "B-_-0AHfknAl",
    "outputId": "deb5eccc-d420-4699-ca41-39731598f3c6"
   },
   "outputs": [
    {
     "name": "stdout",
     "output_type": "stream",
     "text": [
      "4.243980131272537\n"
     ]
    }
   ],
   "source": [
    "# Get Root Mean Squared Error\n",
    "rmse=np.sqrt(np.mean(((predictions- y_test)**2)))\n",
    "print(rmse)"
   ]
  },
  {
   "cell_type": "code",
   "execution_count": 21,
   "metadata": {
    "colab": {
     "base_uri": "https://localhost:8080/",
     "height": 487
    },
    "id": "qpiOtdtMk8hh",
    "outputId": "faf958f2-d879-4f9e-8ae9-9b7941db4c87"
   },
   "outputs": [
    {
     "name": "stderr",
     "output_type": "stream",
     "text": [
      "/usr/local/lib/python3.7/dist-packages/ipykernel_launcher.py:4: SettingWithCopyWarning: \n",
      "A value is trying to be set on a copy of a slice from a DataFrame.\n",
      "Try using .loc[row_indexer,col_indexer] = value instead\n",
      "\n",
      "See the caveats in the documentation: https://pandas.pydata.org/pandas-docs/stable/user_guide/indexing.html#returning-a-view-versus-a-copy\n",
      "  after removing the cwd from sys.path.\n"
     ]
    },
    {
     "data": {
      "image/png": "[encoded data removed]",
      "text/plain": [
       "<Figure size 1080x360 with 1 Axes>"
      ]
     },
     "metadata": {},
     "output_type": "display_data"
    }
   ],
   "source": [
    "# Plot the data\n",
    "train = data[:training_data_len]\n",
    "valid = data[training_data_len:]\n",
    "valid['Predictions']=predictions\n",
    "plt.figure(figsize=(15,5))\n",
    "plt.title('Model')\n",
    "plt.xlabel('Date')\n",
    "plt.ylabel('Close Price USD$')\n",
    "plt.plot(train['Close'])\n",
    "plt.plot(valid[['Close','Predictions']])\n",
    "plt.legend(['Train','Val','Predictions'])\n",
    "plt.show()"
   ]
  },
  {
   "cell_type": "code",
   "execution_count": 22,
   "metadata": {
    "colab": {
     "base_uri": "https://localhost:8080/",
     "height": 455
    },
    "id": "pYAKWlrOmgx-",
    "outputId": "0edf90fd-6d54-4597-9f17-d40b5708ac64"
   },
   "outputs": [
    {
     "data": {
      "text/html": [
       "\n",
       "  <div id=\"df-ea3b6c7d-ec12-4224-995a-5f7572ad9575\">\n",
       "    <div class=\"colab-df-container\">\n",
       "      <div>\n",
       "<style scoped>\n",
       "    .dataframe tbody tr th:only-of-type {\n",
       "        vertical-align: middle;\n",
       "    }\n",
       "\n",
       "    .dataframe tbody tr th {\n",
       "        vertical-align: top;\n",
       "    }\n",
       "\n",
       "    .dataframe thead th {\n",
       "        text-align: right;\n",
       "    }\n",
       "</style>\n",
       "<table border=\"1\" class=\"dataframe\">\n",
       "  <thead>\n",
       "    <tr style=\"text-align: right;\">\n",
       "      <th></th>\n",
       "      <th>Close</th>\n",
       "      <th>Predictions</th>\n",
       "    </tr>\n",
       "    <tr>\n",
       "      <th>Date</th>\n",
       "      <th></th>\n",
       "      <th></th>\n",
       "    </tr>\n",
       "  </thead>\n",
       "  <tbody>\n",
       "    <tr>\n",
       "      <th>2020-09-30</th>\n",
       "      <td>115.809998</td>\n",
       "      <td>109.948738</td>\n",
       "    </tr>\n",
       "    <tr>\n",
       "      <th>2020-10-01</th>\n",
       "      <td>116.790001</td>\n",
       "      <td>111.175247</td>\n",
       "    </tr>\n",
       "    <tr>\n",
       "      <th>2020-10-02</th>\n",
       "      <td>113.019997</td>\n",
       "      <td>112.736336</td>\n",
       "    </tr>\n",
       "    <tr>\n",
       "      <th>2020-10-05</th>\n",
       "      <td>116.500000</td>\n",
       "      <td>114.441933</td>\n",
       "    </tr>\n",
       "    <tr>\n",
       "      <th>2020-10-06</th>\n",
       "      <td>113.160004</td>\n",
       "      <td>116.164780</td>\n",
       "    </tr>\n",
       "    <tr>\n",
       "      <th>...</th>\n",
       "      <td>...</td>\n",
       "      <td>...</td>\n",
       "    </tr>\n",
       "    <tr>\n",
       "      <th>2021-11-29</th>\n",
       "      <td>160.240005</td>\n",
       "      <td>156.398560</td>\n",
       "    </tr>\n",
       "    <tr>\n",
       "      <th>2021-11-30</th>\n",
       "      <td>165.300003</td>\n",
       "      <td>158.241531</td>\n",
       "    </tr>\n",
       "    <tr>\n",
       "      <th>2021-12-01</th>\n",
       "      <td>164.770004</td>\n",
       "      <td>159.846893</td>\n",
       "    </tr>\n",
       "    <tr>\n",
       "      <th>2021-12-02</th>\n",
       "      <td>163.759995</td>\n",
       "      <td>161.203873</td>\n",
       "    </tr>\n",
       "    <tr>\n",
       "      <th>2021-12-03</th>\n",
       "      <td>161.839996</td>\n",
       "      <td>162.272903</td>\n",
       "    </tr>\n",
       "  </tbody>\n",
       "</table>\n",
       "<p>298 rows × 2 columns</p>\n",
       "</div>\n",
       "      <button class=\"colab-df-convert\" onclick=\"convertToInteractive('df-ea3b6c7d-ec12-4224-995a-5f7572ad9575')\"\n",
       "              title=\"Convert this dataframe to an interactive table.\"\n",
       "              style=\"display:none;\">\n",
       "        \n",
       "  <svg xmlns=\"http://www.w3.org/2000/svg\" height=\"24px\"viewBox=\"0 0 24 24\"\n",
       "       width=\"24px\">\n",
       "    <path d=\"M0 0h24v24H0V0z\" fill=\"none\"/>\n",
       "    <path d=\"M18.56 5.44l.94 2.06.94-2.06 2.06-.94-2.06-.94-.94-2.06-.94 2.06-2.06.94zm-11 1L8.5 8.5l.94-2.06 2.06-.94-2.06-.94L8.5 2.5l-.94 2.06-2.06.94zm10 10l.94 2.06.94-2.06 2.06-.94-2.06-.94-.94-2.06-.94 2.06-2.06.94z\"/><path d=\"M17.41 7.96l-1.37-1.37c-.4-.4-.92-.59-1.43-.59-.52 0-1.04.2-1.43.59L10.3 9.45l-7.72 7.72c-.78.78-.78 2.05 0 2.83L4 21.41c.39.39.9.59 1.41.59.51 0 1.02-.2 1.41-.59l7.78-7.78 2.81-2.81c.8-.78.8-2.07 0-2.86zM5.41 20L4 18.59l7.72-7.72 1.47 1.35L5.41 20z\"/>\n",
       "  </svg>\n",
       "      </button>\n",
       "      \n",
       "  <style>\n",
       "    .colab-df-container {\n",
       "      display:flex;\n",
       "      flex-wrap:wrap;\n",
       "      gap: 12px;\n",
       "    }\n",
       "\n",
       "    .colab-df-convert {\n",
       "      background-color: #E8F0FE;\n",
       "      border: none;\n",
       "      border-radius: 50%;\n",
       "      cursor: pointer;\n",
       "      display: none;\n",
       "      fill: #1967D2;\n",
       "      height: 32px;\n",
       "      padding: 0 0 0 0;\n",
       "      width: 32px;\n",
       "    }\n",
       "\n",
       "    .colab-df-convert:hover {\n",
       "      background-color: #E2EBFA;\n",
       "      box-shadow: 0px 1px 2px rgba(60, 64, 67, 0.3), 0px 1px 3px 1px rgba(60, 64, 67, 0.15);\n",
       "      fill: #174EA6;\n",
       "    }\n",
       "\n",
       "    [theme=dark] .colab-df-convert {\n",
       "      background-color: #3B4455;\n",
       "      fill: #D2E3FC;\n",
       "    }\n",
       "\n",
       "    [theme=dark] .colab-df-convert:hover {\n",
       "      background-color: #434B5C;\n",
       "      box-shadow: 0px 1px 3px 1px rgba(0, 0, 0, 0.15);\n",
       "      filter: drop-shadow(0px 1px 2px rgba(0, 0, 0, 0.3));\n",
       "      fill: #FFFFFF;\n",
       "    }\n",
       "  </style>\n",
       "\n",
       "      <script>\n",
       "        const buttonEl =\n",
       "          document.querySelector('#df-ea3b6c7d-ec12-4224-995a-5f7572ad9575 button.colab-df-convert');\n",
       "        buttonEl.style.display =\n",
       "          google.colab.kernel.accessAllowed ? 'block' : 'none';\n",
       "\n",
       "        async function convertToInteractive(key) {\n",
       "          const element = document.querySelector('#df-ea3b6c7d-ec12-4224-995a-5f7572ad9575');\n",
       "          const dataTable =\n",
       "            await google.colab.kernel.invokeFunction('convertToInteractive',\n",
       "                                                     [key], {});\n",
       "          if (!dataTable) return;\n",
       "\n",
       "          const docLinkHtml = 'Like what you see? Visit the ' +\n",
       "            '<a target=\"_blank\" href=https://colab.research.google.com/notebooks/data_table.ipynb>data table notebook</a>'\n",
       "            + ' to learn more about interactive tables.';\n",
       "          element.innerHTML = '';\n",
       "          dataTable['output_type'] = 'display_data';\n",
       "          await google.colab.output.renderOutput(dataTable, element);\n",
       "          const docLink = document.createElement('div');\n",
       "          docLink.innerHTML = docLinkHtml;\n",
       "          element.appendChild(docLink);\n",
       "        }\n",
       "      </script>\n",
       "    </div>\n",
       "  </div>\n",
       "  "
      ],
      "text/plain": [
       "                 Close  Predictions\n",
       "Date                               \n",
       "2020-09-30  115.809998   109.948738\n",
       "2020-10-01  116.790001   111.175247\n",
       "2020-10-02  113.019997   112.736336\n",
       "2020-10-05  116.500000   114.441933\n",
       "2020-10-06  113.160004   116.164780\n",
       "...                ...          ...\n",
       "2021-11-29  160.240005   156.398560\n",
       "2021-11-30  165.300003   158.241531\n",
       "2021-12-01  164.770004   159.846893\n",
       "2021-12-02  163.759995   161.203873\n",
       "2021-12-03  161.839996   162.272903\n",
       "\n",
       "[298 rows x 2 columns]"
      ]
     },
     "execution_count": 22,
     "metadata": {},
     "output_type": "execute_result"
    }
   ],
   "source": [
    "# Show the valid and predicted price\n",
    "valid"
   ]
  },
  {
   "cell_type": "code",
   "execution_count": 24,
   "metadata": {
    "colab": {
     "base_uri": "https://localhost:8080/"
    },
    "id": "dXuousuxm4m_",
    "outputId": "c4e4c9f5-657f-436e-955b-34be4b6e40aa"
   },
   "outputs": [
    {
     "name": "stdout",
     "output_type": "stream",
     "text": [
      "[[162.9725]]\n"
     ]
    }
   ],
   "source": [
    "# Get the quote\n",
    "apple_quote = pd.read_csv('/content/AAPL_Train.csv')\n",
    "#Create a new dataframe\n",
    "new_df=apple_quote.filter(['Close'])\n",
    "#Get the last 60 day closing price value and convert the dataframe into an array\n",
    "last_60_days = new_df[-60:].values\n",
    "#Scale the data to be values between 0 and 1\n",
    "last_60_days_scaled=scaler.transform(last_60_days)\n",
    "# Create an empty list\n",
    "X_test=[]\n",
    "# Append the last 60 days\n",
    "X_test.append(last_60_days_scaled)\n",
    "# Convert the X_test data set to a numpy array\n",
    "X_test=np.array(X_test)\n",
    "#Reshape  the data\n",
    "X_test=np.reshape(X_test,(X_test.shape[0],X_test.shape[1],1))\n",
    "#Get the predicted scaled price\n",
    "pred_price = model.predict(X_test)\n",
    "# Undo the scaling\n",
    "pred_price = scaler.inverse_transform(pred_price)\n",
    "print(pred_price)"
   ]
  },
  {
   "cell_type": "code",
   "execution_count": 26,
   "metadata": {
    "colab": {
     "base_uri": "https://localhost:8080/"
    },
    "id": "3McGBgo4L8V7",
    "outputId": "58177d19-e30d-4705-cf2b-3efb43dbbf8f"
   },
   "outputs": [
    {
     "name": "stdout",
     "output_type": "stream",
     "text": [
      "            Date       Close\n",
      "0     03-01-2012   14.686786\n",
      "1     04-01-2012   14.765714\n",
      "2     05-01-2012   14.929643\n",
      "3     06-01-2012   15.085714\n",
      "4     09-01-2012   15.061786\n",
      "...          ...         ...\n",
      "2494  30-11-2021  165.300003\n",
      "2495  01-12-2021  164.770004\n",
      "2496  02-12-2021  163.759995\n",
      "2497  03-12-2021  161.839996\n",
      "2498  06-12-2021  165.320007\n",
      "\n",
      "[2499 rows x 2 columns]\n"
     ]
    }
   ],
   "source": [
    "#Get the quote\n",
    "apple_quote2 = pd.read_csv('/content/AAPL_Prediction.csv')\n",
    "apple_quote_new = apple_quote2[['Date','Close']]\n",
    "print(apple_quote_new)"
   ]
  }
 ],
 "metadata": {
  "colab": {
   "collapsed_sections": [],
   "name": "Stock Price Prediction - Srihari Kamath.ipynb",
   "provenance": []
  },
  "kernelspec": {
   "display_name": "Python 3 (ipykernel)",
   "language": "python",
   "name": "python3"
  },
  "language_info": {
   "codemirror_mode": {
    "name": "ipython",
    "version": 3
   },
   "file_extension": ".py",
   "mimetype": "text/x-python",
   "name": "python",
   "nbconvert_exporter": "python",
   "pygments_lexer": "ipython3",
   "version": "3.9.12"
  }
 },
 "nbformat": 4,
 "nbformat_minor": 1
}
